{
 "cells": [
  {
   "cell_type": "markdown",
   "id": "f31b985c",
   "metadata": {},
   "source": [
    "# 1. Pemahaman Bisnis"
   ]
  },
  {
   "cell_type": "markdown",
   "id": "ee1e0f06",
   "metadata": {},
   "source": [
    "##### Masalah: \n",
    "Tingkat churn pelanggan (pelanggan berhenti menggunakan layanan) cukup tinggi di cabang Palu. \n",
    "\n",
    "##### Tujuan :\n",
    "Mengidentifikasi faktor-faktor yang memengaruhi churn dan memberikan rekomendasi strategi marketing untuk mengurangi churn.\n"
   ]
  },
  {
   "cell_type": "markdown",
   "id": "34eef2d5",
   "metadata": {},
   "source": [
    "# 2. Pemahaman dan Persiapan Data"
   ]
  },
  {
   "cell_type": "markdown",
   "id": "84d6b6f3",
   "metadata": {},
   "source": [
    "### Import Data"
   ]
  },
  {
   "cell_type": "code",
   "execution_count": 1,
   "id": "3728ac62",
   "metadata": {},
   "outputs": [
    {
     "data": {
      "text/html": [
       "<div>\n",
       "<style scoped>\n",
       "    .dataframe tbody tr th:only-of-type {\n",
       "        vertical-align: middle;\n",
       "    }\n",
       "\n",
       "    .dataframe tbody tr th {\n",
       "        vertical-align: top;\n",
       "    }\n",
       "\n",
       "    .dataframe thead th {\n",
       "        text-align: right;\n",
       "    }\n",
       "</style>\n",
       "<table border=\"1\" class=\"dataframe\">\n",
       "  <thead>\n",
       "    <tr style=\"text-align: right;\">\n",
       "      <th></th>\n",
       "      <th>CustomerID</th>\n",
       "      <th>Age</th>\n",
       "      <th>Gender</th>\n",
       "      <th>Tenure</th>\n",
       "      <th>MonthlySpend</th>\n",
       "      <th>InternetService</th>\n",
       "      <th>ContractType</th>\n",
       "      <th>PaymentMethod</th>\n",
       "      <th>MarketingOffer</th>\n",
       "      <th>Churn</th>\n",
       "    </tr>\n",
       "  </thead>\n",
       "  <tbody>\n",
       "    <tr>\n",
       "      <th>0</th>\n",
       "      <td>CUST0001</td>\n",
       "      <td>58</td>\n",
       "      <td>Male</td>\n",
       "      <td>14</td>\n",
       "      <td>371000.0</td>\n",
       "      <td>DSL</td>\n",
       "      <td>TwoYear</td>\n",
       "      <td>BankTransfer</td>\n",
       "      <td>Yes</td>\n",
       "      <td>Yes</td>\n",
       "    </tr>\n",
       "    <tr>\n",
       "      <th>1</th>\n",
       "      <td>CUST0002</td>\n",
       "      <td>25</td>\n",
       "      <td>Male</td>\n",
       "      <td>49</td>\n",
       "      <td>886000.0</td>\n",
       "      <td>DSL</td>\n",
       "      <td>Monthly</td>\n",
       "      <td>Cash</td>\n",
       "      <td>No</td>\n",
       "      <td>No</td>\n",
       "    </tr>\n",
       "    <tr>\n",
       "      <th>2</th>\n",
       "      <td>CUST0003</td>\n",
       "      <td>19</td>\n",
       "      <td>Male</td>\n",
       "      <td>5</td>\n",
       "      <td>314000.0</td>\n",
       "      <td>No</td>\n",
       "      <td>Monthly</td>\n",
       "      <td>Cash</td>\n",
       "      <td>Yes</td>\n",
       "      <td>Yes</td>\n",
       "    </tr>\n",
       "    <tr>\n",
       "      <th>3</th>\n",
       "      <td>CUST0004</td>\n",
       "      <td>65</td>\n",
       "      <td>Male</td>\n",
       "      <td>61</td>\n",
       "      <td>954000.0</td>\n",
       "      <td>No</td>\n",
       "      <td>TwoYear</td>\n",
       "      <td>Cash</td>\n",
       "      <td>No</td>\n",
       "      <td>Yes</td>\n",
       "    </tr>\n",
       "    <tr>\n",
       "      <th>4</th>\n",
       "      <td>CUST0005</td>\n",
       "      <td>35</td>\n",
       "      <td>Female</td>\n",
       "      <td>29</td>\n",
       "      <td>450000.0</td>\n",
       "      <td>DSL</td>\n",
       "      <td>TwoYear</td>\n",
       "      <td>CreditCard</td>\n",
       "      <td>Yes</td>\n",
       "      <td>No</td>\n",
       "    </tr>\n",
       "  </tbody>\n",
       "</table>\n",
       "</div>"
      ],
      "text/plain": [
       "  CustomerID  Age  Gender  Tenure  MonthlySpend InternetService ContractType  \\\n",
       "0   CUST0001   58    Male      14      371000.0             DSL      TwoYear   \n",
       "1   CUST0002   25    Male      49      886000.0             DSL      Monthly   \n",
       "2   CUST0003   19    Male       5      314000.0              No      Monthly   \n",
       "3   CUST0004   65    Male      61      954000.0              No      TwoYear   \n",
       "4   CUST0005   35  Female      29      450000.0             DSL      TwoYear   \n",
       "\n",
       "  PaymentMethod MarketingOffer Churn  \n",
       "0  BankTransfer            Yes   Yes  \n",
       "1          Cash             No    No  \n",
       "2          Cash            Yes   Yes  \n",
       "3          Cash             No   Yes  \n",
       "4    CreditCard            Yes    No  "
      ]
     },
     "execution_count": 1,
     "metadata": {},
     "output_type": "execute_result"
    }
   ],
   "source": [
    "import pandas as pd\n",
    "\n",
    "dt = pd.read_excel('telecom_marketing_dummy_data.xlsx')\n",
    "dt.head()"
   ]
  },
  {
   "cell_type": "code",
   "execution_count": 3,
   "id": "71ce37a8",
   "metadata": {},
   "outputs": [
    {
     "data": {
      "text/html": [
       "<div>\n",
       "<style scoped>\n",
       "    .dataframe tbody tr th:only-of-type {\n",
       "        vertical-align: middle;\n",
       "    }\n",
       "\n",
       "    .dataframe tbody tr th {\n",
       "        vertical-align: top;\n",
       "    }\n",
       "\n",
       "    .dataframe thead th {\n",
       "        text-align: right;\n",
       "    }\n",
       "</style>\n",
       "<table border=\"1\" class=\"dataframe\">\n",
       "  <thead>\n",
       "    <tr style=\"text-align: right;\">\n",
       "      <th></th>\n",
       "      <th>CustomerID</th>\n",
       "      <th>Age</th>\n",
       "      <th>Gender</th>\n",
       "      <th>Tenure</th>\n",
       "      <th>MonthlySpend</th>\n",
       "      <th>InternetService</th>\n",
       "      <th>ContractType</th>\n",
       "      <th>PaymentMethod</th>\n",
       "      <th>MarketingOffer</th>\n",
       "      <th>Churn</th>\n",
       "    </tr>\n",
       "  </thead>\n",
       "  <tbody>\n",
       "    <tr>\n",
       "      <th>195</th>\n",
       "      <td>CUST0196</td>\n",
       "      <td>19</td>\n",
       "      <td>Female</td>\n",
       "      <td>49</td>\n",
       "      <td>833000.0</td>\n",
       "      <td>No</td>\n",
       "      <td>OneYear</td>\n",
       "      <td>Cash</td>\n",
       "      <td>No</td>\n",
       "      <td>No</td>\n",
       "    </tr>\n",
       "    <tr>\n",
       "      <th>196</th>\n",
       "      <td>CUST0197</td>\n",
       "      <td>25</td>\n",
       "      <td>Female</td>\n",
       "      <td>42</td>\n",
       "      <td>925000.0</td>\n",
       "      <td>No</td>\n",
       "      <td>TwoYear</td>\n",
       "      <td>BankTransfer</td>\n",
       "      <td>Yes</td>\n",
       "      <td>Yes</td>\n",
       "    </tr>\n",
       "    <tr>\n",
       "      <th>197</th>\n",
       "      <td>CUST0198</td>\n",
       "      <td>41</td>\n",
       "      <td>Male</td>\n",
       "      <td>28</td>\n",
       "      <td>467000.0</td>\n",
       "      <td>DSL</td>\n",
       "      <td>TwoYear</td>\n",
       "      <td>CreditCard</td>\n",
       "      <td>Yes</td>\n",
       "      <td>Yes</td>\n",
       "    </tr>\n",
       "    <tr>\n",
       "      <th>198</th>\n",
       "      <td>CUST0199</td>\n",
       "      <td>37</td>\n",
       "      <td>Female</td>\n",
       "      <td>59</td>\n",
       "      <td>495000.0</td>\n",
       "      <td>No</td>\n",
       "      <td>TwoYear</td>\n",
       "      <td>BankTransfer</td>\n",
       "      <td>Yes</td>\n",
       "      <td>No</td>\n",
       "    </tr>\n",
       "    <tr>\n",
       "      <th>199</th>\n",
       "      <td>CUST0200</td>\n",
       "      <td>33</td>\n",
       "      <td>Male</td>\n",
       "      <td>42</td>\n",
       "      <td>339000.0</td>\n",
       "      <td>Fiber</td>\n",
       "      <td>TwoYear</td>\n",
       "      <td>Cash</td>\n",
       "      <td>Yes</td>\n",
       "      <td>No</td>\n",
       "    </tr>\n",
       "  </tbody>\n",
       "</table>\n",
       "</div>"
      ],
      "text/plain": [
       "    CustomerID  Age  Gender  Tenure  MonthlySpend InternetService  \\\n",
       "195   CUST0196   19  Female      49      833000.0              No   \n",
       "196   CUST0197   25  Female      42      925000.0              No   \n",
       "197   CUST0198   41    Male      28      467000.0             DSL   \n",
       "198   CUST0199   37  Female      59      495000.0              No   \n",
       "199   CUST0200   33    Male      42      339000.0           Fiber   \n",
       "\n",
       "    ContractType PaymentMethod MarketingOffer Churn  \n",
       "195      OneYear          Cash             No    No  \n",
       "196      TwoYear  BankTransfer            Yes   Yes  \n",
       "197      TwoYear    CreditCard            Yes   Yes  \n",
       "198      TwoYear  BankTransfer            Yes    No  \n",
       "199      TwoYear          Cash            Yes    No  "
      ]
     },
     "execution_count": 3,
     "metadata": {},
     "output_type": "execute_result"
    }
   ],
   "source": [
    "dt.tail()"
   ]
  },
  {
   "cell_type": "markdown",
   "id": "f416d6b4",
   "metadata": {},
   "source": [
    "### Informasi Kolom\n",
    "\n",
    "- CustomerID: ID pelanggan.\n",
    "- Age: Usia pelanggan.\n",
    "- Gender: Jenis kelamin pelanggan (Male/Female).\n",
    "- Tenure: Lama menjadi pelanggan (bulan).\n",
    "- MonthlySpend: Rata-rata pengeluaran bulanan pelanggan (Rp).\n",
    "- InternetService: Jenis layanan internet (Fiber, DSL, No).\n",
    "- ContractType: Jenis kontrak (Monthly, OneYear, TwoYear).\n",
    "- PaymentMethod: Metode pembayaran (CreditCard, BankTransfer, Cash).\n",
    "- MarketingOffer: Apakah pelanggan pernah mendapatkan penawaran khusus marketing (Yes/No).\n",
    "- Churn: Status churn (Yes/No)."
   ]
  },
  {
   "cell_type": "markdown",
   "id": "fca13e5a",
   "metadata": {},
   "source": [
    "### Informasi DataFrame"
   ]
  },
  {
   "cell_type": "code",
   "execution_count": 7,
   "id": "16e98b9b",
   "metadata": {},
   "outputs": [
    {
     "data": {
      "text/plain": [
       "<bound method DataFrame.info of     CustomerID  Age  Gender  Tenure  MonthlySpend InternetService  \\\n",
       "0     CUST0001   58    Male      14      371000.0             DSL   \n",
       "1     CUST0002   25    Male      49      886000.0             DSL   \n",
       "2     CUST0003   19    Male       5      314000.0              No   \n",
       "3     CUST0004   65    Male      61      954000.0              No   \n",
       "4     CUST0005   35  Female      29      450000.0             DSL   \n",
       "..         ...  ...     ...     ...           ...             ...   \n",
       "195   CUST0196   19  Female      49      833000.0              No   \n",
       "196   CUST0197   25  Female      42      925000.0              No   \n",
       "197   CUST0198   41    Male      28      467000.0             DSL   \n",
       "198   CUST0199   37  Female      59      495000.0              No   \n",
       "199   CUST0200   33    Male      42      339000.0           Fiber   \n",
       "\n",
       "    ContractType PaymentMethod MarketingOffer Churn  \n",
       "0        TwoYear  BankTransfer            Yes   Yes  \n",
       "1        Monthly          Cash             No    No  \n",
       "2        Monthly          Cash            Yes   Yes  \n",
       "3        TwoYear          Cash             No   Yes  \n",
       "4        TwoYear    CreditCard            Yes    No  \n",
       "..           ...           ...            ...   ...  \n",
       "195      OneYear          Cash             No    No  \n",
       "196      TwoYear  BankTransfer            Yes   Yes  \n",
       "197      TwoYear    CreditCard            Yes   Yes  \n",
       "198      TwoYear  BankTransfer            Yes    No  \n",
       "199      TwoYear          Cash            Yes    No  \n",
       "\n",
       "[200 rows x 10 columns]>"
      ]
     },
     "execution_count": 7,
     "metadata": {},
     "output_type": "execute_result"
    }
   ],
   "source": [
    "dt.info"
   ]
  },
  {
   "cell_type": "code",
   "execution_count": 8,
   "id": "a38041d6",
   "metadata": {},
   "outputs": [
    {
     "data": {
      "text/plain": [
       "CustomerID          object\n",
       "Age                  int64\n",
       "Gender              object\n",
       "Tenure               int64\n",
       "MonthlySpend       float64\n",
       "InternetService     object\n",
       "ContractType        object\n",
       "PaymentMethod       object\n",
       "MarketingOffer      object\n",
       "Churn               object\n",
       "dtype: object"
      ]
     },
     "execution_count": 8,
     "metadata": {},
     "output_type": "execute_result"
    }
   ],
   "source": [
    "dt.dtypes"
   ]
  },
  {
   "cell_type": "code",
   "execution_count": 11,
   "id": "dfe99bdd",
   "metadata": {},
   "outputs": [
    {
     "data": {
      "text/plain": [
       "CustomerID         0\n",
       "Age                0\n",
       "Gender             0\n",
       "Tenure             0\n",
       "MonthlySpend       0\n",
       "InternetService    0\n",
       "ContractType       0\n",
       "PaymentMethod      0\n",
       "MarketingOffer     0\n",
       "Churn              0\n",
       "dtype: int64"
      ]
     },
     "execution_count": 11,
     "metadata": {},
     "output_type": "execute_result"
    }
   ],
   "source": [
    "dt.isnull().sum()"
   ]
  },
  {
   "cell_type": "code",
   "execution_count": 76,
   "id": "ee56fb1a",
   "metadata": {},
   "outputs": [
    {
     "data": {
      "text/plain": [
       "0"
      ]
     },
     "execution_count": 76,
     "metadata": {},
     "output_type": "execute_result"
    }
   ],
   "source": [
    "dt.duplicated().sum()"
   ]
  },
  {
   "cell_type": "code",
   "execution_count": 12,
   "id": "f625010b",
   "metadata": {},
   "outputs": [
    {
     "data": {
      "text/plain": [
       "(200, 10)"
      ]
     },
     "execution_count": 12,
     "metadata": {},
     "output_type": "execute_result"
    }
   ],
   "source": [
    "dt.shape"
   ]
  },
  {
   "cell_type": "code",
   "execution_count": 14,
   "id": "ad065e12",
   "metadata": {},
   "outputs": [
    {
     "data": {
      "text/plain": [
       "CustomerID         200\n",
       "Age                 47\n",
       "Gender               2\n",
       "Tenure              69\n",
       "MonthlySpend       185\n",
       "InternetService      3\n",
       "ContractType         3\n",
       "PaymentMethod        3\n",
       "MarketingOffer       2\n",
       "Churn                2\n",
       "dtype: int64"
      ]
     },
     "execution_count": 14,
     "metadata": {},
     "output_type": "execute_result"
    }
   ],
   "source": [
    "dt.nunique()"
   ]
  },
  {
   "cell_type": "markdown",
   "id": "ae0c8f9a",
   "metadata": {},
   "source": [
    "### To Do :\n",
    "\n",
    "Data aman tanpa ada data yang hilang atau kosong dengan tipe data yang digunakan untuk tiap kolomnya sudah tepat"
   ]
  },
  {
   "cell_type": "markdown",
   "id": "f8a9e6ad",
   "metadata": {},
   "source": [
    "# 3. Eksplorasi Data (EDA)"
   ]
  },
  {
   "cell_type": "markdown",
   "id": "0985a08c",
   "metadata": {},
   "source": [
    "### Analisis Distribusi Data\n",
    "\n",
    "Tampilkan statistik deskriptif untuk kolom numerik agar kita dapat melihat gambaran umum tentang distribusi data."
   ]
  },
  {
   "cell_type": "code",
   "execution_count": 15,
   "id": "beb554b1",
   "metadata": {},
   "outputs": [
    {
     "data": {
      "text/html": [
       "<div>\n",
       "<style scoped>\n",
       "    .dataframe tbody tr th:only-of-type {\n",
       "        vertical-align: middle;\n",
       "    }\n",
       "\n",
       "    .dataframe tbody tr th {\n",
       "        vertical-align: top;\n",
       "    }\n",
       "\n",
       "    .dataframe thead th {\n",
       "        text-align: right;\n",
       "    }\n",
       "</style>\n",
       "<table border=\"1\" class=\"dataframe\">\n",
       "  <thead>\n",
       "    <tr style=\"text-align: right;\">\n",
       "      <th></th>\n",
       "      <th>Age</th>\n",
       "      <th>Tenure</th>\n",
       "      <th>MonthlySpend</th>\n",
       "    </tr>\n",
       "  </thead>\n",
       "  <tbody>\n",
       "    <tr>\n",
       "      <th>count</th>\n",
       "      <td>200.000000</td>\n",
       "      <td>200.000000</td>\n",
       "      <td>200.000000</td>\n",
       "    </tr>\n",
       "    <tr>\n",
       "      <th>mean</th>\n",
       "      <td>41.435000</td>\n",
       "      <td>39.155000</td>\n",
       "      <td>506285.000000</td>\n",
       "    </tr>\n",
       "    <tr>\n",
       "      <th>std</th>\n",
       "      <td>14.115666</td>\n",
       "      <td>20.010323</td>\n",
       "      <td>261722.231396</td>\n",
       "    </tr>\n",
       "    <tr>\n",
       "      <th>min</th>\n",
       "      <td>18.000000</td>\n",
       "      <td>1.000000</td>\n",
       "      <td>62000.000000</td>\n",
       "    </tr>\n",
       "    <tr>\n",
       "      <th>25%</th>\n",
       "      <td>29.750000</td>\n",
       "      <td>24.750000</td>\n",
       "      <td>294500.000000</td>\n",
       "    </tr>\n",
       "    <tr>\n",
       "      <th>50%</th>\n",
       "      <td>41.000000</td>\n",
       "      <td>41.000000</td>\n",
       "      <td>493500.000000</td>\n",
       "    </tr>\n",
       "    <tr>\n",
       "      <th>75%</th>\n",
       "      <td>54.250000</td>\n",
       "      <td>56.000000</td>\n",
       "      <td>714750.000000</td>\n",
       "    </tr>\n",
       "    <tr>\n",
       "      <th>max</th>\n",
       "      <td>65.000000</td>\n",
       "      <td>72.000000</td>\n",
       "      <td>997000.000000</td>\n",
       "    </tr>\n",
       "  </tbody>\n",
       "</table>\n",
       "</div>"
      ],
      "text/plain": [
       "              Age      Tenure   MonthlySpend\n",
       "count  200.000000  200.000000     200.000000\n",
       "mean    41.435000   39.155000  506285.000000\n",
       "std     14.115666   20.010323  261722.231396\n",
       "min     18.000000    1.000000   62000.000000\n",
       "25%     29.750000   24.750000  294500.000000\n",
       "50%     41.000000   41.000000  493500.000000\n",
       "75%     54.250000   56.000000  714750.000000\n",
       "max     65.000000   72.000000  997000.000000"
      ]
     },
     "execution_count": 15,
     "metadata": {},
     "output_type": "execute_result"
    }
   ],
   "source": [
    "dt.describe()"
   ]
  },
  {
   "cell_type": "markdown",
   "id": "54d2a94e",
   "metadata": {},
   "source": [
    "##### Short Insight :\n",
    "\n",
    "1) Usia Pelanggan (Age):\n",
    "\n",
    "Rata-rata usia pelanggan adalah 41 tahun, dengan standar deviasi sekitar 14 tahun. Ini menunjukkan variasi yang cukup besar di usia pelanggan.\n",
    "Usia pelanggan berkisar dari 18 tahun (minimum) hingga 65 tahun (maksimum), dengan 50% pelanggan berusia di bawah 41 tahun.\n",
    "\n",
    "2) Lama Menjadi Pelanggan (Tenure):\n",
    "\n",
    "Pelanggan memiliki rata-rata lama berlangganan sekitar 39 bulan, dengan standar deviasi sekitar 20 bulan.\n",
    "Lama berlangganan berkisar dari 1 bulan (minimum) hingga 72 bulan (maksimum).\n",
    "Kuartil ke-1 adalah 25 bulan, kuartil ke-2 (median) adalah 41 bulan, dan kuartil ke-3 adalah 56 bulan. Ini menunjukkan bahwa sebagian besar pelanggan telah berlangganan dalam jangka waktu yang relatif lama.\n",
    "\n",
    "3) Pengeluaran Bulanan (MonthlySpend):\n",
    "\n",
    "Rata-rata pengeluaran bulanan pelanggan adalah sekitar Rp506.285, dengan standar deviasi sebesar Rp261.722. Ini menunjukkan ada variasi pengeluaran bulanan yang signifikan antar pelanggan.\n",
    "Pengeluaran bulanan berkisar dari Rp62.000 (minimum) hingga Rp997.000 (maksimum).\n",
    "Kuartil menunjukkan bahwa:\n",
    "25% pelanggan menghabiskan kurang dari Rp294.500 per bulan.\n",
    "50% pelanggan (median) menghabiskan kurang dari Rp493.500 per bulan.\n",
    "25% pelanggan teratas menghabiskan lebih dari Rp714.750 per bulan.\n",
    "\n",
    "4) Kesimpulan dari Distribusi:\n",
    "\n",
    "- Segmentasi Usia: Sebagian besar pelanggan berada pada usia produktif (18-65 tahun), tetapi ada variasi yang signifikan, sehingga strategi pemasaran bisa disesuaikan dengan kelompok usia.\n",
    "- Retensi Pelanggan: Banyak pelanggan telah berlangganan cukup lama (di atas median 41 bulan), tetapi ada juga pelanggan yang baru berlangganan (1 bulan). Hal ini menunjukkan ada peluang untuk meningkatkan retensi pada pelanggan baru.\n",
    "- Pengeluaran Bulanan: Pengeluaran bulanan pelanggan sangat bervariasi. Pelanggan dengan pengeluaran yang lebih tinggi mungkin lebih loyal atau memiliki kebutuhan layanan yang lebih banyak, sehingga dapat menjadi target utama untuk penawaran khusus."
   ]
  },
  {
   "cell_type": "markdown",
   "id": "7e2fdb74",
   "metadata": {},
   "source": [
    "### Analisis Target Churn\n",
    "\n",
    "Karena fokus utama analisis adalah pada churn, mari kita lihat sebaran data untuk kolom Churn.\n",
    "Ini akan membantu kita memahami apakah churn tersebar merata atau lebih cenderung ke salah satu kategori (Yes atau No)."
   ]
  },
  {
   "cell_type": "code",
   "execution_count": 28,
   "id": "dc314a87",
   "metadata": {},
   "outputs": [
    {
     "data": {
      "image/png": "[encoded data removed]",
      "text/plain": [
       "<Figure size 640x480 with 1 Axes>"
      ]
     },
     "metadata": {},
     "output_type": "display_data"
    }
   ],
   "source": [
    "import matplotlib.pyplot as plt\n",
    "import seaborn as sns\n",
    "\n",
    "# Visualisasi distribusi churn\n",
    "sns.countplot(x='Churn', data=dt)\n",
    "plt.title('Distribusi Churn Pelanggan')\n",
    "plt.show()"
   ]
  },
  {
   "cell_type": "code",
   "execution_count": 29,
   "id": "75fc7fff",
   "metadata": {},
   "outputs": [
    {
     "data": {
      "text/plain": [
       "CustomerID         95\n",
       "Age                95\n",
       "Gender             95\n",
       "Tenure             95\n",
       "MonthlySpend       95\n",
       "InternetService    95\n",
       "ContractType       95\n",
       "PaymentMethod      95\n",
       "MarketingOffer     95\n",
       "Churn              95\n",
       "dtype: int64"
      ]
     },
     "execution_count": 29,
     "metadata": {},
     "output_type": "execute_result"
    }
   ],
   "source": [
    "dt[dt['Churn']=='Yes'].count()"
   ]
  },
  {
   "cell_type": "markdown",
   "id": "e5573a6f",
   "metadata": {},
   "source": [
    "###### Short Insight :\n",
    "\n",
    "Persebaran cukup merata dengan selisih 10 angka, lebih banyak Churn dengan kategori 'No'\n",
    "\n",
    "1. Distribusi Churn:\n",
    "\n",
    "Dari visualisasi menggunakan sns.countplot, terlihat bahwa churn pelanggan tidak terlalu timpang. Jumlah pelanggan yang churn (\"Yes\") adalah 95 pelanggan, sedangkan yang tidak churn (\"No\") adalah 105 pelanggan.\n",
    "Kesimpulan awal:\n",
    "Dataset ini cukup seimbang dalam hal target variabel (Churn). Ini berarti analisis atau model prediksi yang akan dibuat tidak perlu terlalu khawatir tentang masalah imbalanced data, yang biasanya memerlukan penanganan khusus seperti oversampling atau undersampling.\n",
    "Proporsi Churn:\n",
    "\n",
    "2. Persentase churn dihitung sebagai:\n",
    "\n",
    "**Persentase churn** = (95/200) × 100 = **47.5%**\n",
    "\n",
    "Ini menunjukkan bahwa hampir separuh pelanggan (47.5%) mengalami churn, sementara sisanya (52.5%) tetap menggunakan layanan.\n",
    "\n",
    "3. Implikasi:\n",
    "\n",
    "Tingkat churn yang tinggi ini menjadi perhatian serius karena hampir setengah pelanggan meninggalkan layanan. Hal ini berpotensi menurunkan pendapatan perusahaan secara signifikan jika tidak segera ditangani.\n",
    "\n",
    "4. Rekomendasi awal:\n",
    "\n",
    "Karena churn pelanggan cukup signifikan, analisis lebih lanjut perlu dilakukan untuk memahami faktor-faktor yang memengaruhinya, seperti:\n",
    "- Tenure (lama berlangganan),\n",
    "- MonthlySpend (pengeluaran bulanan),\n",
    "- ContractType (jenis kontrak),\n",
    "- InternetService (jenis layanan internet).\n",
    "---\n",
    "1) Fokuskan strategi untuk kelompok pelanggan dengan kategori churn \"Yes\", termasuk kemungkinan memberikan insentif atau strategi marketing yang lebih menarik.\n",
    "\n",
    "2) Langkah selanjutnya adalah mengeksplorasi hubungan antara variabel-variabel prediktor dan churn untuk mengidentifikasi pola-pola yang signifikan."
   ]
  },
  {
   "cell_type": "markdown",
   "id": "582dc126",
   "metadata": {},
   "source": [
    "# 4. Analisis Korelasi Anatar Variabel\n",
    "\n",
    "Selanjutnya, kita perlu melihat hubungan antar fitur yang ada, terutama antara variabel independen dan target (Churn)."
   ]
  },
  {
   "cell_type": "markdown",
   "id": "f6d572ca",
   "metadata": {},
   "source": [
    "### Korelasi Antara Fitur Numerik dengan Churn"
   ]
  },
  {
   "cell_type": "code",
   "execution_count": 36,
   "id": "3efc9986",
   "metadata": {},
   "outputs": [
    {
     "data": {
      "image/png": "[encoded data removed]",
      "text/plain": [
       "<Figure size 640x480 with 2 Axes>"
      ]
     },
     "metadata": {},
     "output_type": "display_data"
    }
   ],
   "source": [
    "# Hitung korelasi antara kolom numerik\n",
    "correlation_matrix = dt[['Age', 'Tenure', 'MonthlySpend']].corr()\n",
    "\n",
    "# Visualisasi korelasi\n",
    "sns.heatmap(correlation_matrix, annot=True, cmap='coolwarm', fmt='.2f')\n",
    "plt.title('Korelasi Antara Variabel Numerik')\n",
    "plt.show()"
   ]
  },
  {
   "cell_type": "code",
   "execution_count": 39,
   "id": "b5d207be",
   "metadata": {},
   "outputs": [
    {
     "name": "stdout",
     "output_type": "stream",
     "text": [
      "Tabel Korelasi:\n",
      "\n",
      "     Variable 1    Variable 2  Correlation\n",
      "0           Age           Age     1.000000\n",
      "1        Tenure           Age     0.016394\n",
      "2  MonthlySpend           Age    -0.015873\n",
      "3           Age        Tenure     0.016394\n",
      "4        Tenure        Tenure     1.000000\n",
      "5  MonthlySpend        Tenure    -0.046998\n",
      "6           Age  MonthlySpend    -0.015873\n",
      "7        Tenure  MonthlySpend    -0.046998\n",
      "8  MonthlySpend  MonthlySpend     1.000000\n"
     ]
    }
   ],
   "source": [
    "import pandas as pd\n",
    "\n",
    "# Hitung korelasi antara kolom numerik\n",
    "correlation_matrix = dt[['Age', 'Tenure', 'MonthlySpend']].corr()\n",
    "\n",
    "# Ubah matriks korelasi menjadi format tabular\n",
    "correlation_table = correlation_matrix.reset_index().melt(id_vars='index', var_name='Variable 2', value_name='Correlation')\n",
    "correlation_table = correlation_table.rename(columns={'index': 'Variable 1'})\n",
    "\n",
    "# Tampilkan tabel korelasi\n",
    "print(\"Tabel Korelasi:\\n\")\n",
    "print(correlation_table)"
   ]
  },
  {
   "cell_type": "markdown",
   "id": "319c5b9c",
   "metadata": {},
   "source": [
    "###### Short Insight\n",
    "\n",
    "1. Korelasi antar fitur numerik (Age, Tenure, MonthlySpend):\n",
    "\n",
    "Korelasi antar variabel numerik yang ditunjukkan dalam heatmap dan tabel memiliki nilai-nilai korelasi sebagai berikut:\n",
    "\n",
    "- Age vs. Tenure: Korelasi rendah (0.016), menunjukkan tidak ada hubungan linear yang signifikan antara usia pelanggan dan lama berlangganan.\n",
    "\n",
    "- Age vs. MonthlySpend: Korelasi rendah (-0.016), menunjukkan tidak ada hubungan signifikan antara usia pelanggan dan pengeluaran bulanan.\n",
    "\n",
    "- Tenure vs. MonthlySpend: Korelasi rendah (-0.047), menunjukkan bahwa lama pelanggan berlangganan tidak memiliki hubungan linear yang signifikan dengan pengeluaran bulanan pelanggan.\n",
    "\n",
    "- Korelasi diagonal (1.00) hanya mencerminkan hubungan variabel dengan dirinya sendiri.\n",
    "\n",
    "*Note : Secara umum, korelasi di atas 0.7 atau di bawah -0.7 sering dianggap kuat, baik positif atau negatif.*\n",
    "\n",
    "**Kesimpulan awal:**\n",
    "\n",
    "Fitur numerik yang ada tidak saling berkorelasi secara kuat, artinya fitur ini dapat dianggap saling independen dan tidak redundan.\n",
    "\n",
    "2. Implikasi untuk prediksi churn:\n",
    "\n",
    "Karena nilai korelasi antar fitur numerik sangat kecil, ini menunjukkan bahwa fitur-fitur ini mungkin tidak terlalu berhubungan satu sama lain, sehingga dapat memberikan informasi unik dalam memprediksi churn. Namun, rendahnya korelasi antara variabel numerik ini tidak serta-merta menunjukkan hubungan dengan target (Churn), yang perlu dianalisis lebih lanjut.\n",
    "\n",
    "3. Rekomendasi berikutnya:\n",
    "\n",
    "Analisis hubungan dengan target (Churn):\n",
    "\n",
    "Lakukan analisis tambahan, seperti:\n",
    "- Boxplot atau histogram untuk membandingkan distribusi numerik (seperti Age, Tenure, MonthlySpend) terhadap label churn (\"Yes\" atau \"No\").\n",
    "- Chi-square test atau ANOVA untuk menguji signifikansi hubungan antara fitur-fitur numerik dengan churn."
   ]
  },
  {
   "cell_type": "markdown",
   "id": "41222703",
   "metadata": {},
   "source": [
    "### Korelasi Antara Fitur Kategorikal dengan Churn"
   ]
  },
  {
   "cell_type": "code",
   "execution_count": 37,
   "id": "e40b424b",
   "metadata": {
    "scrolled": false
   },
   "outputs": [
    {
     "data": {
      "image/png": "[encoded data removed]",
      "text/plain": [
       "<Figure size 640x480 with 1 Axes>"
      ]
     },
     "metadata": {},
     "output_type": "display_data"
    },
    {
     "data": {
      "image/png": "[encoded data removed]",
      "text/plain": [
       "<Figure size 640x480 with 1 Axes>"
      ]
     },
     "metadata": {},
     "output_type": "display_data"
    },
    {
     "data": {
      "image/png": "[encoded data removed]",
      "text/plain": [
       "<Figure size 640x480 with 1 Axes>"
      ]
     },
     "metadata": {},
     "output_type": "display_data"
    },
    {
     "data": {
      "image/png": "[encoded data removed]",
      "text/plain": [
       "<Figure size 640x480 with 1 Axes>"
      ]
     },
     "metadata": {},
     "output_type": "display_data"
    },
    {
     "data": {
      "image/png": "[encoded data removed]",
      "text/plain": [
       "<Figure size 640x480 with 1 Axes>"
      ]
     },
     "metadata": {},
     "output_type": "display_data"
    }
   ],
   "source": [
    "# Visualisasi hubungan antara fitur kategorikal dan Churn\n",
    "sns.countplot(x='Gender', hue='Churn', data=dt)\n",
    "plt.title('Churn Berdasarkan Gender')\n",
    "plt.show()\n",
    "\n",
    "sns.countplot(x='InternetService', hue='Churn', data=dt)\n",
    "plt.title('Churn Berdasarkan Jenis Layanan Internet')\n",
    "plt.show()\n",
    "\n",
    "sns.countplot(x='ContractType', hue='Churn', data=dt)\n",
    "plt.title('Churn Berdasarkan Jenis Kontrak')\n",
    "plt.show()\n",
    "\n",
    "sns.countplot(x='PaymentMethod', hue='Churn', data=dt)\n",
    "plt.title('Churn Berdasarkan Metode Pembayaran')\n",
    "plt.show()\n",
    "\n",
    "sns.countplot(x='MarketingOffer', hue='Churn', data=dt)\n",
    "plt.title('Churn Berdasarkan Penawaran Marketing')\n",
    "plt.show()"
   ]
  },
  {
   "cell_type": "code",
   "execution_count": 40,
   "id": "065ba4f6",
   "metadata": {},
   "outputs": [
    {
     "name": "stdout",
     "output_type": "stream",
     "text": [
      "Tabel Gender dan Churn:\n",
      "    Gender Churn  Count\n",
      "0  Female    No     47\n",
      "1  Female   Yes     37\n",
      "2    Male    No     58\n",
      "3    Male   Yes     58\n",
      "\n",
      "Tabel Internet Service dan Churn:\n",
      "   InternetService Churn  Count\n",
      "0             DSL    No     46\n",
      "1             DSL   Yes     35\n",
      "2           Fiber    No     27\n",
      "3           Fiber   Yes     26\n",
      "4              No    No     32\n",
      "5              No   Yes     34\n",
      "\n",
      "Tabel Contract Type dan Churn:\n",
      "   ContractType Churn  Count\n",
      "0      Monthly    No     31\n",
      "1      Monthly   Yes     30\n",
      "2      OneYear    No     32\n",
      "3      OneYear   Yes     37\n",
      "4      TwoYear    No     42\n",
      "5      TwoYear   Yes     28\n",
      "\n",
      "Tabel Payment Method dan Churn:\n",
      "   PaymentMethod Churn  Count\n",
      "0  BankTransfer    No     36\n",
      "1  BankTransfer   Yes     30\n",
      "2          Cash    No     35\n",
      "3          Cash   Yes     31\n",
      "4    CreditCard    No     34\n",
      "5    CreditCard   Yes     34\n",
      "\n",
      "Tabel Marketing Offer dan Churn:\n",
      "   MarketingOffer Churn  Count\n",
      "0             No    No     57\n",
      "1             No   Yes     49\n",
      "2            Yes    No     48\n",
      "3            Yes   Yes     46\n"
     ]
    }
   ],
   "source": [
    "import pandas as pd\n",
    "\n",
    "# Hitung hubungan Gender dengan Churn\n",
    "gender_churn_table = dt.groupby(['Gender', 'Churn']).size().reset_index(name='Count')\n",
    "print(\"Tabel Gender dan Churn:\\n\", gender_churn_table)\n",
    "\n",
    "# Hitung hubungan InternetService dengan Churn\n",
    "internet_service_churn_table = dt.groupby(['InternetService', 'Churn']).size().reset_index(name='Count')\n",
    "print(\"\\nTabel Internet Service dan Churn:\\n\", internet_service_churn_table)\n",
    "\n",
    "# Hitung hubungan ContractType dengan Churn\n",
    "contract_type_churn_table = dt.groupby(['ContractType', 'Churn']).size().reset_index(name='Count')\n",
    "print(\"\\nTabel Contract Type dan Churn:\\n\", contract_type_churn_table)\n",
    "\n",
    "# Hitung hubungan PaymentMethod dengan Churn\n",
    "payment_method_churn_table = dt.groupby(['PaymentMethod', 'Churn']).size().reset_index(name='Count')\n",
    "print(\"\\nTabel Payment Method dan Churn:\\n\", payment_method_churn_table)\n",
    "\n",
    "# Hitung hubungan MarketingOffer dengan Churn\n",
    "marketing_offer_churn_table = dt.groupby(['MarketingOffer', 'Churn']).size().reset_index(name='Count')\n",
    "print(\"\\nTabel Marketing Offer dan Churn:\\n\", marketing_offer_churn_table)"
   ]
  },
  {
   "cell_type": "markdown",
   "id": "9dc336cc",
   "metadata": {},
   "source": [
    "###### Short Insight :\n",
    "\n",
    "1. Churn Berdasarkan Gender:\n",
    "\n",
    "Insight:\n",
    "- Pelanggan pria memiliki kemungkinan churn yang lebih tinggi dibandingkan wanita, karena jumlah pelanggan pria yang churn (58) sama besar dengan jumlah yang tidak churn.\n",
    "- Perlu analisis lebih lanjut untuk memahami apakah faktor lain (seperti jenis layanan atau metode pembayaran) berkontribusi pada pola churn berdasarkan gender.\n",
    "\n",
    "2. Churn Berdasarkan Jenis Layanan Internet:\n",
    "\n",
    "Insight:\n",
    "- Pelanggan yang tidak menggunakan layanan internet (No Internet) memiliki rasio churn yang lebih tinggi, karena jumlah pelanggan churn (34) sedikit lebih besar dibandingkan yang tidak churn (32).\n",
    "- Pelanggan DSL dan Fiber memiliki distribusi churn yang cukup merata, tetapi pelanggan DSL memiliki jumlah churn yang lebih tinggi secara absolut dibandingkan Fiber.\n",
    "\n",
    "3. Churn Berdasarkan Jenis Kontrak:\n",
    "\n",
    "Insight:\n",
    "- Kontrak bulanan (Monthly) memiliki distribusi churn yang hampir merata, artinya pelanggan dengan kontrak bulanan berisiko churn lebih tinggi dibandingkan jenis kontrak lainnya.\n",
    "- Pelanggan dengan kontrak TwoYear lebih cenderung untuk tetap bertahan (jumlah churn lebih kecil, yaitu 28, dibandingkan yang tidak churn, yaitu 42).\n",
    "- Kontrak jangka panjang mungkin menjadi strategi efektif untuk mengurangi churn.\n",
    "\n",
    "4. Churn Berdasarkan Metode Pembayaran:\n",
    "\n",
    "Insight:\n",
    "- Pelanggan yang menggunakan CreditCard memiliki distribusi churn yang seimbang (Yes = 34, No = 34), sehingga kelompok ini memiliki risiko churn yang lebih tinggi dibandingkan metode lain.\n",
    "- Pengguna BankTransfer memiliki churn yang lebih rendah secara proporsional (Yes = 30, No = 36).\n",
    "\n",
    "5. Churn Berdasarkan Penawaran Marketing (Marketing Offer):\n",
    "\n",
    "Insight:\n",
    "- Penawaran marketing (Yes atau No) tampaknya tidak memiliki dampak signifikan terhadap churn, karena rasio churn untuk kedua kategori hampir merata.\n",
    "- Strategi penawaran marketing mungkin perlu ditinjau ulang untuk meningkatkan efektivitasnya dalam mengurangi churn.\n",
    "\n",
    "###### Rekomendasi untuk Analisis Lanjutan:\n",
    "\n",
    "- Hubungan multivariat:\n",
    "Analisis apakah fitur-fitur kategorikal berinteraksi satu sama lain dalam memengaruhi churn (misalnya, kombinasi jenis kontrak dengan metode pembayaran).\n",
    "\n",
    "- Statistik inferensial:\n",
    "Lakukan uji statistik seperti Chi-square test untuk menguji signifikansi hubungan antara setiap fitur kategorikal dengan churn.\n",
    "\n",
    "- Segmentasi pelanggan:\n",
    "Gunakan hasil ini untuk melakukan segmentasi pelanggan, misalnya dengan mengelompokkan pelanggan berisiko churn tinggi berdasarkan kontrak bulanan dan metode pembayaran.\n",
    "\n",
    "Dengan langkah ini, insight lebih dalam dapat diperoleh untuk mendukung strategi pengurangan churn."
   ]
  },
  {
   "cell_type": "markdown",
   "id": "d7bdea9a",
   "metadata": {},
   "source": [
    "# 5. Analisis Faktor-faktor yang Mempengaruhi Churn"
   ]
  },
  {
   "cell_type": "markdown",
   "id": "2bd6b684",
   "metadata": {},
   "source": [
    "Berdasarkan hasil eksplorasi data di atas, Anda bisa melakukan analisis lebih lanjut untuk menentukan faktor-faktor yang mempengaruhi churn. \n",
    "Analisis ini dapat dilakukan dengan menggunakan beberapa teknik statistik atau model prediktif"
   ]
  },
  {
   "cell_type": "markdown",
   "id": "48773444",
   "metadata": {},
   "source": [
    "### Uji Variabel Kategorikal"
   ]
  },
  {
   "cell_type": "markdown",
   "id": "f85f63d1",
   "metadata": {},
   "source": [
    "##### Uji Chi-Square"
   ]
  },
  {
   "cell_type": "markdown",
   "id": "8d336fcc",
   "metadata": {},
   "source": [
    "- Tujuan: Menguji hubungan antara dua variabel kategorikal.\n",
    "- Kapan digunakan: Jika kedua variabel adalah kategorikal (contoh: Gender dan Churn)."
   ]
  },
  {
   "cell_type": "code",
   "execution_count": 56,
   "id": "3687f6d6",
   "metadata": {},
   "outputs": [
    {
     "name": "stdout",
     "output_type": "stream",
     "text": [
      "Hasil Uji Chi-Square untuk Variabel Kategorikal:\n",
      "          Variable  Chi2 Statistic   P-value Significant\n",
      "0           Gender        0.474092  0.491111          No\n",
      "1  InternetService        1.075991  0.583918          No\n",
      "2     ContractType        2.685426  0.261136          No\n",
      "3    PaymentMethod        0.288600  0.865628          No\n",
      "4   MarketingOffer        0.058154  0.809437          No\n",
      "\n",
      "Interpretasi:\n",
      "Variabel Gender memiliki hubungan yang tidak signifikan dengan Churn (p-value = 0.4911).\n",
      "Variabel InternetService memiliki hubungan yang tidak signifikan dengan Churn (p-value = 0.5839).\n",
      "Variabel ContractType memiliki hubungan yang tidak signifikan dengan Churn (p-value = 0.2611).\n",
      "Variabel PaymentMethod memiliki hubungan yang tidak signifikan dengan Churn (p-value = 0.8656).\n",
      "Variabel MarketingOffer memiliki hubungan yang tidak signifikan dengan Churn (p-value = 0.8094).\n"
     ]
    }
   ],
   "source": [
    "import pandas as pd\n",
    "import scipy.stats as stats\n",
    "\n",
    "# Contoh dataset\n",
    "# Pastikan mengganti 'dt' dengan dataset Anda yang telah dimuat\n",
    "# dt = pd.read_csv('data.csv')\n",
    "\n",
    "# Daftar variabel kategorikal (selain Churn)\n",
    "categorical_columns = ['Gender', 'InternetService', 'ContractType', 'PaymentMethod', 'MarketingOffer']  # Ganti sesuai dataset Anda\n",
    "target_column = 'Churn'  # Kolom target\n",
    "\n",
    "# Hasil analisis chi-square\n",
    "chi_square_results = []\n",
    "\n",
    "for column in categorical_columns:\n",
    "    # Membuat tabel kontingensi\n",
    "    contingency_table = pd.crosstab(dt[column], dt[target_column])\n",
    "    \n",
    "    # Uji Chi-Square\n",
    "    chi2, p, dof, expected = stats.chi2_contingency(contingency_table)\n",
    "    \n",
    "    # Tambahkan hasil ke daftar\n",
    "    chi_square_results.append({\n",
    "        'Variable': column,\n",
    "        'Chi2 Statistic': chi2,\n",
    "        'P-value': p,\n",
    "        'Significant': 'Yes' if p < 0.05 else 'No'\n",
    "    })\n",
    "\n",
    "# Tampilkan hasil analisis dalam bentuk DataFrame\n",
    "results_df = pd.DataFrame(chi_square_results)\n",
    "print(\"Hasil Uji Chi-Square untuk Variabel Kategorikal:\")\n",
    "print(results_df)\n",
    "\n",
    "# Interpretasi hasil\n",
    "print(\"\\nInterpretasi:\")\n",
    "for _, row in results_df.iterrows():\n",
    "    print(f\"Variabel {row['Variable']} memiliki hubungan yang {'signifikan' if row['Significant'] == 'Yes' else 'tidak signifikan'} dengan Churn (p-value = {row['P-value']:.4f}).\")\n"
   ]
  },
  {
   "cell_type": "markdown",
   "id": "74974105",
   "metadata": {},
   "source": [
    "###### Short Insight\n",
    "\n",
    "**Uji Chi-Square (Variabel Kategorikal)**\n",
    "\n",
    "Tidak ada hubungan signifikan antara variabel kategorikal (Gender, InternetService, ContractType, PaymentMethod, MarketingOffer) dengan Churn.\n",
    "\n",
    "- Semua p-value untuk uji Chi-Square lebih besar dari 0.05, yang menunjukkan bahwa tidak ada hubungan yang signifikan antara variabel-variabel ini dengan churn.\n",
    "- Hal ini mengindikasikan bahwa faktor-faktor seperti jenis kelamin, jenis layanan internet, tipe kontrak, metode pembayaran, dan penawaran pemasaran tidak berkontribusi secara signifikan terhadap kemungkinan churn pelanggan pada dataset ini."
   ]
  },
  {
   "cell_type": "markdown",
   "id": "f9f10848",
   "metadata": {},
   "source": [
    "### Uji Variabel Numerik"
   ]
  },
  {
   "cell_type": "markdown",
   "id": "73be06f0",
   "metadata": {},
   "source": [
    "##### Pearson\n",
    "\n",
    "- Tujuan: Mengukur hubungan linear antara dua variabel numerik.\n",
    "- Kapan digunakan: Jika kedua variabel berskala interval atau rasio (contoh: Age dan MonthlySpend)."
   ]
  },
  {
   "cell_type": "code",
   "execution_count": 57,
   "id": "36736ee4",
   "metadata": {},
   "outputs": [
    {
     "name": "stdout",
     "output_type": "stream",
     "text": [
      "Hasil Uji Korelasi untuk Variabel Numerik:\n",
      "       Variable  Correlation Coefficient   P-value Significant\n",
      "0           Age                 0.065190  0.359077          No\n",
      "1  MonthlySpend                -0.064396  0.364970          No\n",
      "2        Tenure                -0.060057  0.398238          No\n",
      "\n",
      "Interpretasi:\n",
      "Variabel Age memiliki hubungan yang tidak signifikan dengan Churn (p-value = 0.3591).\n",
      "Variabel MonthlySpend memiliki hubungan yang tidak signifikan dengan Churn (p-value = 0.3650).\n",
      "Variabel Tenure memiliki hubungan yang tidak signifikan dengan Churn (p-value = 0.3982).\n"
     ]
    }
   ],
   "source": [
    "import pandas as pd\n",
    "import numpy as np\n",
    "from scipy.stats import pearsonr\n",
    "\n",
    "# Contoh dataset\n",
    "# Pastikan mengganti 'dt' dengan dataset Anda yang telah dimuat\n",
    "# dt = pd.read_csv('data.csv')\n",
    "\n",
    "# Konversi variabel target (Churn) ke numerik (Yes=1, No=0)\n",
    "dt['Churn_Numeric'] = dt['Churn'].map({'Yes': 1, 'No': 0})\n",
    "\n",
    "# Daftar variabel numerik\n",
    "numerical_columns = ['Age', 'MonthlySpend', 'Tenure']  # Ganti sesuai dataset Anda\n",
    "target_column = 'Churn_Numeric'  # Kolom target dalam format numerik\n",
    "\n",
    "# Hasil analisis korelasi\n",
    "correlation_results = []\n",
    "\n",
    "for column in numerical_columns:\n",
    "    # Hitung korelasi Pearson\n",
    "    corr, p = pearsonr(dt[column], dt[target_column])\n",
    "    \n",
    "    # Tambahkan hasil ke daftar\n",
    "    correlation_results.append({\n",
    "        'Variable': column,\n",
    "        'Correlation Coefficient': corr,\n",
    "        'P-value': p,\n",
    "        'Significant': 'Yes' if p < 0.05 else 'No'\n",
    "    })\n",
    "\n",
    "# Tampilkan hasil analisis dalam bentuk DataFrame\n",
    "results_df = pd.DataFrame(correlation_results)\n",
    "print(\"Hasil Uji Korelasi untuk Variabel Numerik:\")\n",
    "print(results_df)\n",
    "\n",
    "# Interpretasi hasil\n",
    "print(\"\\nInterpretasi:\")\n",
    "for _, row in results_df.iterrows():\n",
    "    print(f\"Variabel {row['Variable']} memiliki hubungan yang {'signifikan' if row['Significant'] == 'Yes' else 'tidak signifikan'} dengan Churn (p-value = {row['P-value']:.4f}).\")"
   ]
  },
  {
   "cell_type": "markdown",
   "id": "14caf56b",
   "metadata": {},
   "source": [
    "##### Korelasi Spearman\n",
    "\n",
    "- Tujuan: Mengukur hubungan monotonik (tidak harus linear) antara dua variabel.\n",
    "- Kapan digunakan: Jika data tidak memenuhi asumsi normalitas."
   ]
  },
  {
   "cell_type": "code",
   "execution_count": 63,
   "id": "5fdca18d",
   "metadata": {},
   "outputs": [
    {
     "name": "stdout",
     "output_type": "stream",
     "text": [
      "Uji Spearman (Korelasi antara fitur numerik):\n",
      "Korelasi Age vs Tenure:\n",
      "  Spearman Coefficient: 0.0118, P-Value: 0.8680\n",
      "  Tidak ada hubungan signifikan.\n",
      "\n",
      "Korelasi Age vs MonthlySpend:\n",
      "  Spearman Coefficient: -0.0094, P-Value: 0.8954\n",
      "  Tidak ada hubungan signifikan.\n",
      "\n",
      "Korelasi Tenure vs MonthlySpend:\n",
      "  Spearman Coefficient: -0.0511, P-Value: 0.4720\n",
      "  Tidak ada hubungan signifikan.\n",
      "\n"
     ]
    }
   ],
   "source": [
    "from scipy.stats import spearmanr, ttest_ind\n",
    "\n",
    "# Fitur numerik yang akan diuji\n",
    "numerical_features = ['Age', 'Tenure', 'MonthlySpend']\n",
    "target_variable = 'Churn'  # Variabel target\n",
    "\n",
    "# Uji Spearman untuk hubungan antar fitur numerik\n",
    "print(\"Uji Spearman (Korelasi antara fitur numerik):\")\n",
    "for i, feature1 in enumerate(numerical_features):\n",
    "    for feature2 in numerical_features[i+1:]:\n",
    "        corr, p_value = spearmanr(dt[feature1], dt[feature2])\n",
    "        print(f\"Korelasi {feature1} vs {feature2}:\")\n",
    "        print(f\"  Spearman Coefficient: {corr:.4f}, P-Value: {p_value:.4f}\")\n",
    "        if p_value < 0.05:\n",
    "            print(\"  Hubungan signifikan ditemukan.\\n\")\n",
    "        else:\n",
    "            print(\"  Tidak ada hubungan signifikan.\\n\")"
   ]
  },
  {
   "cell_type": "markdown",
   "id": "7daa6474",
   "metadata": {},
   "source": [
    "##### T-Test (Independent Sample T-Test)\n",
    "\n",
    "- Tujuan: Membandingkan rata-rata antara dua kelompok.\n",
    "- Kapan digunakan: Ketika variabel target adalah kategorikal (2 grup) dan prediktor adalah numerik."
   ]
  },
  {
   "cell_type": "code",
   "execution_count": 64,
   "id": "598b54aa",
   "metadata": {},
   "outputs": [
    {
     "name": "stdout",
     "output_type": "stream",
     "text": [
      "\n",
      "Uji T-Test (Perbedaan rata-rata fitur numerik berdasarkan Churn):\n",
      "Uji T-Test untuk Age:\n",
      "  T-Statistic: 0.9193, P-Value: 0.3591\n",
      "  Tidak terdapat perbedaan signifikan berdasarkan kategori Churn.\n",
      "\n",
      "Uji T-Test untuk Tenure:\n",
      "  T-Statistic: -0.8466, P-Value: 0.3982\n",
      "  Tidak terdapat perbedaan signifikan berdasarkan kategori Churn.\n",
      "\n",
      "Uji T-Test untuk MonthlySpend:\n",
      "  T-Statistic: -0.9080, P-Value: 0.3650\n",
      "  Tidak terdapat perbedaan signifikan berdasarkan kategori Churn.\n",
      "\n"
     ]
    }
   ],
   "source": [
    "from scipy.stats import spearmanr, ttest_ind\n",
    "\n",
    "# Fitur numerik yang akan diuji\n",
    "numerical_features = ['Age', 'Tenure', 'MonthlySpend']\n",
    "target_variable = 'Churn'  # Variabel target\n",
    "\n",
    "# Uji T-Test untuk setiap fitur numerik berdasarkan Churn\n",
    "print(\"\\nUji T-Test (Perbedaan rata-rata fitur numerik berdasarkan Churn):\")\n",
    "for feature in numerical_features:\n",
    "    # Data berdasarkan kategori Churn\n",
    "    churn_yes = dt[dt[target_variable] == 'Yes'][feature]\n",
    "    churn_no = dt[dt[target_variable] == 'No'][feature]\n",
    "    \n",
    "    # Uji T-Test\n",
    "    t_stat, p_value = ttest_ind(churn_yes, churn_no, nan_policy='omit')\n",
    "    print(f\"Uji T-Test untuk {feature}:\")\n",
    "    print(f\"  T-Statistic: {t_stat:.4f}, P-Value: {p_value:.4f}\")\n",
    "    if p_value < 0.05:\n",
    "        print(\"  Terdapat perbedaan signifikan berdasarkan kategori Churn.\\n\")\n",
    "    else:\n",
    "        print(\"  Tidak terdapat perbedaan signifikan berdasarkan kategori Churn.\\n\")"
   ]
  },
  {
   "cell_type": "markdown",
   "id": "36c0ec94",
   "metadata": {},
   "source": [
    "###### Short Insight\n",
    "\n",
    "1. Uji Korelasi Pearson (Variabel Numerik)\n",
    "\n",
    "Tidak ada hubungan signifikan antara variabel numerik (Age, MonthlySpend, Tenure) dengan Churn.\n",
    "\n",
    "- Semua p-value untuk uji Pearson lebih besar dari 0.05, menunjukkan bahwa tidak ada korelasi linier yang signifikan antara variabel umur, pengeluaran bulanan, dan masa berlangganan dengan churn.\n",
    "- Ini menyiratkan bahwa faktor-faktor numerik seperti usia, pengeluaran bulanan, dan durasi langganan tidak mempengaruhi keputusan pelanggan untuk churn.\n",
    "\n",
    "2. Uji Korelasi Spearman (Hubungan Monotonik antara Variabel Numerik)\n",
    "\n",
    "Tidak ada hubungan signifikan antara variabel numerik.\n",
    "\n",
    "- Nilai korelasi Spearman juga menunjukkan bahwa tidak ada hubungan signifikan antara umur, durasi langganan, dan pengeluaran bulanan.\n",
    "- Ini lebih mempertegas bahwa faktor-faktor numerik ini tidak berpengaruh signifikan terhadap churn, meskipun hubungan yang lebih kompleks mungkin ada.\n",
    "\n",
    "3. Uji T-Test (Perbandingan Rata-rata antara Dua Grup)\n",
    "\n",
    "Tidak ada perbedaan signifikan antara grup Churn dan Non-Churn untuk semua variabel numerik (Age, Tenure, MonthlySpend).\n",
    "\n",
    "- Semua uji T-Test menunjukkan p-value lebih besar dari 0.05, yang berarti tidak ada perbedaan rata-rata yang signifikan antara pelanggan yang churn dan yang tidak churn untuk usia, masa berlangganan, dan pengeluaran bulanan."
   ]
  },
  {
   "cell_type": "markdown",
   "id": "8f61a533",
   "metadata": {},
   "source": [
    "Memahami faktor mana yang paling mempengaruhi churn dan memberikan rekomendasi berbasis data, Anda bisa membangun model prediksi menggunakan regresi logistik.\n",
    "\n",
    "Model ini akan memberikan koefisien untuk setiap fitur, yang menunjukkan pengaruh masing-masing faktor terhadap probabilitas churn."
   ]
  },
  {
   "cell_type": "code",
   "execution_count": 65,
   "id": "338dccdd",
   "metadata": {},
   "outputs": [
    {
     "name": "stdout",
     "output_type": "stream",
     "text": [
      "Optimization terminated successfully.\n",
      "         Current function value: 0.669890\n",
      "         Iterations 4\n",
      "                           Logit Regression Results                           \n",
      "==============================================================================\n",
      "Dep. Variable:                  Churn   No. Observations:                  200\n",
      "Model:                          Logit   Df Residuals:                      188\n",
      "Method:                           MLE   Df Model:                           11\n",
      "Date:                Mon, 27 Jan 2025   Pseudo R-squ.:                 0.03181\n",
      "Time:                        11:58:13   Log-Likelihood:                -133.98\n",
      "converged:                       True   LL-Null:                       -138.38\n",
      "Covariance Type:            nonrobust   LLR p-value:                    0.6401\n",
      "============================================================================================\n",
      "                               coef    std err          z      P>|z|      [0.025      0.975]\n",
      "--------------------------------------------------------------------------------------------\n",
      "const                       -0.5872      0.772     -0.761      0.447      -2.099       0.925\n",
      "Age                          0.0136      0.011      1.288      0.198      -0.007       0.034\n",
      "Tenure                      -0.0050      0.007     -0.678      0.498      -0.019       0.009\n",
      "MonthlySpend              -6.22e-07   5.68e-07     -1.094      0.274   -1.74e-06    4.92e-07\n",
      "Gender_Male                  0.3707      0.304      1.218      0.223      -0.226       0.967\n",
      "InternetService_Fiber        0.2481      0.370      0.670      0.503      -0.478       0.974\n",
      "InternetService_No           0.4289      0.345      1.242      0.214      -0.248       1.106\n",
      "ContractType_OneYear         0.1344      0.362      0.372      0.710      -0.575       0.843\n",
      "ContractType_TwoYear        -0.4975      0.366     -1.359      0.174      -1.215       0.220\n",
      "PaymentMethod_Cash           0.0615      0.366      0.168      0.867      -0.656       0.779\n",
      "PaymentMethod_CreditCard     0.2445      0.358      0.682      0.495      -0.458       0.947\n",
      "MarketingOffer_Yes           0.0694      0.303      0.229      0.819      -0.524       0.663\n",
      "============================================================================================\n"
     ]
    }
   ],
   "source": [
    "import statsmodels.api as sm\n",
    "\n",
    "# Mengonversi variabel kategorikal menjadi variabel dummy (One-Hot Encoding)\n",
    "dt_encoded = pd.get_dummies(dt[['Gender', 'InternetService', 'ContractType', 'PaymentMethod', 'MarketingOffer']], drop_first=True)\n",
    "X = pd.concat([dt[['Age', 'Tenure', 'MonthlySpend']], dt_encoded], axis=1)\n",
    "y = (dt['Churn'] == 'Yes').astype(int)\n",
    "\n",
    "# Menambahkan konstanta untuk intercept\n",
    "X = sm.add_constant(X)\n",
    "\n",
    "# Regresi logistik\n",
    "model = sm.Logit(y, X)\n",
    "result = model.fit()\n",
    "\n",
    "# Melihat hasil\n",
    "print(result.summary())"
   ]
  },
  {
   "cell_type": "markdown",
   "id": "78b3847b",
   "metadata": {},
   "source": [
    "**Hasil Analisis:**\n",
    "\n",
    "- Kekuatan Model (Pseudo R-squared): Nilai Pseudo R-squared sebesar 0,03181 menunjukkan bahwa model ini hanya bisa menjelaskan sekitar 3,18% variasi dalam data. Artinya, model ini belum terlalu bagus dalam memprediksi apakah seseorang akan churn (berhenti menggunakan layanan).\n",
    "-\n",
    "- Kesesuaian Model (Log-Likelihood): Nilai Log-Likelihood adalah -133,98, yang menunjukkan seberapa baik model cocok dengan data. Namun, model ini tidak memberikan penjelasan yang sangat kuat tentang churn jika dibandingkan dengan model yang tidak menggunakan variabel apa pun.\n",
    "\n",
    "- Pentingnya Variabel (P-value):\n",
    "-\n",
    "- Banyak variabel dalam model ini, seperti usia, tenure (lama berlangganan), dan pengeluaran bulanan, memiliki nilai p-value yang lebih besar dari 0,05. Ini berarti variabel-variabel ini tidak memiliki hubungan yang kuat dengan churn (tidak berpengaruh signifikan).\n",
    "-\n",
    "- Begitu juga dengan variabel lainnya seperti jenis kelamin, layanan internet, dan jenis kontrak, yang juga menunjukkan hubungan yang lemah dengan churn.\n",
    "---\n",
    "- Kesimpulan dalam Analisis Korelasi: Secara umum, dalam analisis korelasi, kita ingin melihat apakah ada hubungan yang kuat antara variabel-variabel yang kita analisis (seperti usia, pengeluaran, atau jenis kontrak) dengan hasil yang kita coba prediksi (apakah seseorang akan churn atau tidak). \n",
    "- Namun, berdasarkan hasil model ini, sebagian besar variabel yang kita uji tidak menunjukkan korelasi yang cukup kuat dengan churn. Jadi, model ini belum efektif dalam menjelaskan mengapa seseorang bisa churn. Anda mungkin perlu menambahkan variabel lain atau mencoba model yang berbeda untuk mendapatkan hasil yang lebih baik."
   ]
  },
  {
   "cell_type": "markdown",
   "id": "4056e42a",
   "metadata": {},
   "source": [
    "#### Kesimpulan\n",
    "\n",
    "- Faktor-faktor yang diuji dalam analisis ini (baik kategorikal maupun numerik) tidak menunjukkan pengaruh signifikan terhadap churn pelanggan.\n",
    "\n",
    "- Ini bisa mengindikasikan bahwa churn dalam dataset ini mungkin dipengaruhi oleh faktor-faktor lain yang tidak tercakup dalam analisis ini, seperti faktor eksternal, interaksi antar variabel yang lebih kompleks, atau bahkan variabel lain yang tidak diuji dalam penelitian ini.\n",
    "\n",
    "- Perlu dilakukan analisis lebih lanjut dengan menggunakan variabel lain atau model prediktif yang lebih canggih untuk lebih memahami faktor-faktor yang mempengaruhi churn pelanggan."
   ]
  },
  {
   "cell_type": "markdown",
   "id": "5c2f8768",
   "metadata": {},
   "source": [
    "# 6. Modeling"
   ]
  },
  {
   "cell_type": "markdown",
   "id": "4602bb14",
   "metadata": {},
   "source": [
    "### Menggunakan Semua Fitur"
   ]
  },
  {
   "cell_type": "code",
   "execution_count": 67,
   "id": "f45b7dfc",
   "metadata": {},
   "outputs": [
    {
     "name": "stdout",
     "output_type": "stream",
     "text": [
      "\n",
      "Summary Akurasi Model:\n",
      "                 Model  Akurasi (%)\n",
      "0          Naïve Bayes         65.0\n",
      "1        Random Forest         70.0\n",
      "2  Logistic Regression         60.0\n",
      "3    Gradient Boosting         65.0\n",
      "\n",
      "Confusion Matrix (Naïve Bayes):\n",
      "[[10  2]\n",
      " [ 5  3]]\n",
      "\n",
      "Classification Report (Naïve Bayes):\n",
      "              precision    recall  f1-score   support\n",
      "\n",
      "          No       0.67      0.83      0.74        12\n",
      "         Yes       0.60      0.38      0.46         8\n",
      "\n",
      "    accuracy                           0.65        20\n",
      "   macro avg       0.63      0.60      0.60        20\n",
      "weighted avg       0.64      0.65      0.63        20\n",
      "\n",
      "\n",
      "Confusion Matrix (Random Forest):\n",
      "[[9 3]\n",
      " [3 5]]\n",
      "\n",
      "Classification Report (Random Forest):\n",
      "              precision    recall  f1-score   support\n",
      "\n",
      "          No       0.75      0.75      0.75        12\n",
      "         Yes       0.62      0.62      0.62         8\n",
      "\n",
      "    accuracy                           0.70        20\n",
      "   macro avg       0.69      0.69      0.69        20\n",
      "weighted avg       0.70      0.70      0.70        20\n",
      "\n",
      "\n",
      "Confusion Matrix (Logistic Regression):\n",
      "[[12  0]\n",
      " [ 8  0]]\n",
      "\n",
      "Classification Report (Logistic Regression):\n",
      "              precision    recall  f1-score   support\n",
      "\n",
      "          No       0.60      1.00      0.75        12\n",
      "         Yes       0.00      0.00      0.00         8\n",
      "\n",
      "    accuracy                           0.60        20\n",
      "   macro avg       0.30      0.50      0.37        20\n",
      "weighted avg       0.36      0.60      0.45        20\n",
      "\n",
      "\n",
      "Confusion Matrix (Gradient Boosting):\n",
      "[[7 5]\n",
      " [2 6]]\n",
      "\n",
      "Classification Report (Gradient Boosting):\n",
      "              precision    recall  f1-score   support\n",
      "\n",
      "          No       0.78      0.58      0.67        12\n",
      "         Yes       0.55      0.75      0.63         8\n",
      "\n",
      "    accuracy                           0.65        20\n",
      "   macro avg       0.66      0.67      0.65        20\n",
      "weighted avg       0.68      0.65      0.65        20\n",
      "\n"
     ]
    },
    {
     "name": "stderr",
     "output_type": "stream",
     "text": [
      "C:\\Users\\aanbm04\\anaconda3\\lib\\site-packages\\sklearn\\metrics\\_classification.py:1344: UndefinedMetricWarning: Precision and F-score are ill-defined and being set to 0.0 in labels with no predicted samples. Use `zero_division` parameter to control this behavior.\n",
      "  _warn_prf(average, modifier, msg_start, len(result))\n",
      "C:\\Users\\aanbm04\\anaconda3\\lib\\site-packages\\sklearn\\metrics\\_classification.py:1344: UndefinedMetricWarning: Precision and F-score are ill-defined and being set to 0.0 in labels with no predicted samples. Use `zero_division` parameter to control this behavior.\n",
      "  _warn_prf(average, modifier, msg_start, len(result))\n",
      "C:\\Users\\aanbm04\\anaconda3\\lib\\site-packages\\sklearn\\metrics\\_classification.py:1344: UndefinedMetricWarning: Precision and F-score are ill-defined and being set to 0.0 in labels with no predicted samples. Use `zero_division` parameter to control this behavior.\n",
      "  _warn_prf(average, modifier, msg_start, len(result))\n"
     ]
    }
   ],
   "source": [
    "import pandas as pd\n",
    "from sklearn.model_selection import train_test_split\n",
    "from sklearn.naive_bayes import GaussianNB\n",
    "from sklearn.ensemble import RandomForestClassifier, GradientBoostingClassifier\n",
    "from sklearn.linear_model import LogisticRegression\n",
    "from sklearn.metrics import accuracy_score, classification_report, confusion_matrix\n",
    "from sklearn.utils import shuffle  # Import untuk shuffle\n",
    "\n",
    "# Misalkan dt adalah DataFrame yang telah dibaca\n",
    "# Pisahkan fitur dan target\n",
    "X = dt.drop(['Churn', 'CustomerID'], axis=1)  # Semua fitur kecuali target\n",
    "y = dt['Churn']  # Target adalah 'Churn'\n",
    "\n",
    "# Lakukan One-Hot Encoding pada fitur kategorikal\n",
    "X_encoded = pd.get_dummies(X, drop_first=True)  # drop_first=True untuk menghindari dummy variable trap\n",
    "\n",
    "# Shuffle dataset sebelum split\n",
    "# X_encoded, y = shuffle(X_encoded, y, random_state=42)\n",
    "\n",
    "# Pisahkan data menjadi data pelatihan (train) dan pengujian (test)\n",
    "X_train, X_test, y_train, y_test = train_test_split(X_encoded, y, test_size=0.1, random_state=42)\n",
    "\n",
    "# 1. Model Naïve Bayes\n",
    "nb_model = GaussianNB()\n",
    "nb_model.fit(X_train, y_train)\n",
    "y_pred_nb = nb_model.predict(X_test)\n",
    "accuracy_nb = accuracy_score(y_test, y_pred_nb)\n",
    "\n",
    "# 2. Model Random Forest\n",
    "rf_model = RandomForestClassifier(random_state=42)\n",
    "rf_model.fit(X_train, y_train)\n",
    "y_pred_rf = rf_model.predict(X_test)\n",
    "accuracy_rf = accuracy_score(y_test, y_pred_rf)\n",
    "\n",
    "# 3. Model Logistic Regression\n",
    "lr_model = LogisticRegression(max_iter=1000, random_state=42)\n",
    "lr_model.fit(X_train, y_train)\n",
    "y_pred_lr = lr_model.predict(X_test)\n",
    "accuracy_lr = accuracy_score(y_test, y_pred_lr)\n",
    "\n",
    "# 4. Model Gradient Boosting\n",
    "gb_model = GradientBoostingClassifier(random_state=42)\n",
    "gb_model.fit(X_train, y_train)\n",
    "y_pred_gb = gb_model.predict(X_test)\n",
    "accuracy_gb = accuracy_score(y_test, y_pred_gb)\n",
    "\n",
    "# Menyusun tabel summary akurasi\n",
    "model_names = ['Naïve Bayes', 'Random Forest', 'Logistic Regression', 'Gradient Boosting']\n",
    "accuracies = [accuracy_nb, accuracy_rf, accuracy_lr, accuracy_gb]\n",
    "\n",
    "# Buat DataFrame untuk tabel summary\n",
    "accuracy_summary = pd.DataFrame({\n",
    "    'Model': model_names,\n",
    "    'Akurasi (%)': [acc * 100 for acc in accuracies]\n",
    "})\n",
    "\n",
    "print(\"\\nSummary Akurasi Model:\")\n",
    "print(accuracy_summary)\n",
    "\n",
    "# Optionally, you can print confusion matrices and classification reports for each model:\n",
    "for model_name, y_pred in zip(model_names, [y_pred_nb, y_pred_rf, y_pred_lr, y_pred_gb]):\n",
    "    print(f\"\\nConfusion Matrix ({model_name}):\")\n",
    "    print(confusion_matrix(y_test, y_pred))\n",
    "    print(f\"\\nClassification Report ({model_name}):\")\n",
    "    print(classification_report(y_test, y_pred))"
   ]
  },
  {
   "cell_type": "code",
   "execution_count": 70,
   "id": "65bd7502",
   "metadata": {
    "scrolled": false
   },
   "outputs": [
    {
     "name": "stdout",
     "output_type": "stream",
     "text": [
      "Pentingnya Fitur berdasarkan Random Forest:\n",
      "                     Feature  Importance\n",
      "2               MonthlySpend    0.246024\n",
      "1                     Tenure    0.237685\n",
      "0                        Age    0.223552\n",
      "3                Gender_Male    0.046051\n",
      "7       ContractType_TwoYear    0.041161\n",
      "9   PaymentMethod_CreditCard    0.038101\n",
      "10        MarketingOffer_Yes    0.036964\n",
      "5         InternetService_No    0.035580\n",
      "8         PaymentMethod_Cash    0.033107\n",
      "6       ContractType_OneYear    0.031493\n",
      "4      InternetService_Fiber    0.030283\n"
     ]
    },
    {
     "data": {
      "image/png": "[encoded data removed]",
      "text/plain": [
       "<Figure size 1000x600 with 1 Axes>"
      ]
     },
     "metadata": {},
     "output_type": "display_data"
    }
   ],
   "source": [
    "import pandas as pd\n",
    "import matplotlib.pyplot as plt\n",
    "import seaborn as sns\n",
    "from sklearn.model_selection import train_test_split\n",
    "from sklearn.ensemble import RandomForestClassifier\n",
    "\n",
    "# Misalkan dt adalah DataFrame yang telah dibaca\n",
    "# Pisahkan fitur dan target\n",
    "X = dt.drop(['Churn', 'CustomerID'], axis=1)  # Semua fitur kecuali target\n",
    "y = dt['Churn']  # Target adalah 'Churn'\n",
    "\n",
    "# Lakukan One-Hot Encoding pada fitur kategorikal\n",
    "X_encoded = pd.get_dummies(X, drop_first=True)  # drop_first=True untuk menghindari dummy variable trap\n",
    "\n",
    "# Pisahkan data menjadi data pelatihan (train) dan pengujian (test)\n",
    "X_train, X_test, y_train, y_test = train_test_split(X_encoded, y, test_size=0.1, random_state=42)\n",
    "\n",
    "# Buat dan latih model Random Forest\n",
    "rf_model = RandomForestClassifier(random_state=42)\n",
    "rf_model.fit(X_train, y_train)\n",
    "\n",
    "# Menampilkan pentingnya fitur\n",
    "feature_importances = rf_model.feature_importances_\n",
    "\n",
    "# Membuat DataFrame untuk menampilkan fitur dan pentingnya\n",
    "features = X_encoded.columns\n",
    "importance_df = pd.DataFrame({\n",
    "    'Feature': features,\n",
    "    'Importance': feature_importances\n",
    "})\n",
    "\n",
    "# Urutkan berdasarkan pentingnya fitur\n",
    "importance_df = importance_df.sort_values(by='Importance', ascending=False)\n",
    "\n",
    "# Menampilkan hasil numerik\n",
    "print(\"Pentingnya Fitur berdasarkan Random Forest:\")\n",
    "print(importance_df)\n",
    "\n",
    "# Visualisasi dengan barchart\n",
    "plt.figure(figsize=(10, 6))\n",
    "sns.barplot(x='Importance', y='Feature', data=importance_df, palette='viridis')\n",
    "plt.title('Fitur Paling Berpengaruh Berdasarkan Random Forest')\n",
    "plt.xlabel('Pentingnya Fitur')\n",
    "plt.ylabel('Fitur')\n",
    "plt.show()"
   ]
  },
  {
   "cell_type": "markdown",
   "id": "f6bac9f1",
   "metadata": {},
   "source": [
    "##### Short Insight\n",
    "\n",
    "**Pentingnya Fitur pada Random Forest**\n",
    "\n",
    "- Fitur MonthlySpend memiliki kontribusi terbesar terhadap keputusan model Random Forest, dengan pentingnya sebesar 24.6%. Fitur ini sepertinya sangat terkait dengan apakah seorang pelanggan akan churn atau tidak.\n",
    "- Tenure dan Age juga memiliki kontribusi signifikan, masing-masing dengan pentingnya sekitar 23.7% dan 22.4%. Ini menunjukkan bahwa durasi langganan dan usia pelanggan juga merupakan faktor penting dalam memprediksi churn.\n",
    "- Gender (dalam hal ini Gender_Male) memiliki kontribusi lebih kecil dibandingkan fitur lainnya, tetapi tetap memberikan informasi tambahan bagi model."
   ]
  },
  {
   "cell_type": "markdown",
   "id": "d9d9e586",
   "metadata": {},
   "source": [
    "### Menggunakan Fitur Penting"
   ]
  },
  {
   "cell_type": "code",
   "execution_count": 14,
   "id": "6fbf87ba",
   "metadata": {},
   "outputs": [
    {
     "name": "stdout",
     "output_type": "stream",
     "text": [
      "\n",
      "Summary Akurasi Model:\n",
      "                 Model  Akurasi (%)\n",
      "0          Naïve Bayes         65.0\n",
      "1        Random Forest         80.0\n",
      "2  Logistic Regression         60.0\n",
      "3    Gradient Boosting         80.0\n",
      "\n",
      "Confusion Matrix (Naïve Bayes):\n",
      "[[10  2]\n",
      " [ 5  3]]\n",
      "\n",
      "Classification Report (Naïve Bayes):\n",
      "              precision    recall  f1-score   support\n",
      "\n",
      "          No       0.67      0.83      0.74        12\n",
      "         Yes       0.60      0.38      0.46         8\n",
      "\n",
      "    accuracy                           0.65        20\n",
      "   macro avg       0.63      0.60      0.60        20\n",
      "weighted avg       0.64      0.65      0.63        20\n",
      "\n",
      "\n",
      "Confusion Matrix (Random Forest):\n",
      "[[10  2]\n",
      " [ 2  6]]\n",
      "\n",
      "Classification Report (Random Forest):\n",
      "              precision    recall  f1-score   support\n",
      "\n",
      "          No       0.83      0.83      0.83        12\n",
      "         Yes       0.75      0.75      0.75         8\n",
      "\n",
      "    accuracy                           0.80        20\n",
      "   macro avg       0.79      0.79      0.79        20\n",
      "weighted avg       0.80      0.80      0.80        20\n",
      "\n",
      "\n",
      "Confusion Matrix (Logistic Regression):\n",
      "[[12  0]\n",
      " [ 8  0]]\n",
      "\n",
      "Classification Report (Logistic Regression):\n",
      "              precision    recall  f1-score   support\n",
      "\n",
      "          No       0.60      1.00      0.75        12\n",
      "         Yes       0.00      0.00      0.00         8\n",
      "\n",
      "    accuracy                           0.60        20\n",
      "   macro avg       0.30      0.50      0.37        20\n",
      "weighted avg       0.36      0.60      0.45        20\n",
      "\n",
      "\n",
      "Confusion Matrix (Gradient Boosting):\n",
      "[[8 4]\n",
      " [0 8]]\n",
      "\n",
      "Classification Report (Gradient Boosting):\n",
      "              precision    recall  f1-score   support\n",
      "\n",
      "          No       1.00      0.67      0.80        12\n",
      "         Yes       0.67      1.00      0.80         8\n",
      "\n",
      "    accuracy                           0.80        20\n",
      "   macro avg       0.83      0.83      0.80        20\n",
      "weighted avg       0.87      0.80      0.80        20\n",
      "\n"
     ]
    },
    {
     "name": "stderr",
     "output_type": "stream",
     "text": [
      "C:\\Users\\aanbm04\\anaconda3\\lib\\site-packages\\sklearn\\metrics\\_classification.py:1344: UndefinedMetricWarning: Precision and F-score are ill-defined and being set to 0.0 in labels with no predicted samples. Use `zero_division` parameter to control this behavior.\n",
      "  _warn_prf(average, modifier, msg_start, len(result))\n",
      "C:\\Users\\aanbm04\\anaconda3\\lib\\site-packages\\sklearn\\metrics\\_classification.py:1344: UndefinedMetricWarning: Precision and F-score are ill-defined and being set to 0.0 in labels with no predicted samples. Use `zero_division` parameter to control this behavior.\n",
      "  _warn_prf(average, modifier, msg_start, len(result))\n",
      "C:\\Users\\aanbm04\\anaconda3\\lib\\site-packages\\sklearn\\metrics\\_classification.py:1344: UndefinedMetricWarning: Precision and F-score are ill-defined and being set to 0.0 in labels with no predicted samples. Use `zero_division` parameter to control this behavior.\n",
      "  _warn_prf(average, modifier, msg_start, len(result))\n"
     ]
    }
   ],
   "source": [
    "import pandas as pd\n",
    "from sklearn.model_selection import train_test_split\n",
    "from sklearn.naive_bayes import GaussianNB\n",
    "from sklearn.ensemble import RandomForestClassifier, GradientBoostingClassifier\n",
    "from sklearn.linear_model import LogisticRegression\n",
    "from sklearn.metrics import accuracy_score, classification_report, confusion_matrix\n",
    "from sklearn.utils import shuffle  # Import untuk shuffle\n",
    "\n",
    "# Misalkan dt adalah DataFrame yang telah dibaca\n",
    "# Pisahkan fitur dan target\n",
    "X = dt[['MonthlySpend', 'Tenure', 'Age']] # Semua fitur kecuali target\n",
    "y = dt['Churn']  # Target adalah 'Churn'\n",
    "\n",
    "# Lakukan One-Hot Encoding pada fitur kategorikal\n",
    "X_encoded = pd.get_dummies(X, drop_first=True)  # drop_first=True untuk menghindari dummy variable trap\n",
    "\n",
    "# Shuffle dataset sebelum split\n",
    "# X_encoded, y = shuffle(X_encoded, y, random_state=42)\n",
    "\n",
    "# Pisahkan data menjadi data pelatihan (train) dan pengujian (test)\n",
    "X_train, X_test, y_train, y_test = train_test_split(X_encoded, y, test_size=0.1, random_state=42)\n",
    "\n",
    "# 1. Model Naïve Bayes\n",
    "nb_model = GaussianNB()\n",
    "nb_model.fit(X_train, y_train)\n",
    "y_pred_nb = nb_model.predict(X_test)\n",
    "accuracy_nb = accuracy_score(y_test, y_pred_nb)\n",
    "\n",
    "# 2. Model Random Forest\n",
    "rf_model = RandomForestClassifier(random_state=42)\n",
    "rf_model.fit(X_train, y_train)\n",
    "y_pred_rf = rf_model.predict(X_test)\n",
    "accuracy_rf = accuracy_score(y_test, y_pred_rf)\n",
    "\n",
    "# 3. Model Logistic Regression\n",
    "lr_model = LogisticRegression(max_iter=1000, random_state=42)\n",
    "lr_model.fit(X_train, y_train)\n",
    "y_pred_lr = lr_model.predict(X_test)\n",
    "accuracy_lr = accuracy_score(y_test, y_pred_lr)\n",
    "\n",
    "# 4. Model Gradient Boosting\n",
    "gb_model = GradientBoostingClassifier(random_state=42)\n",
    "gb_model.fit(X_train, y_train)\n",
    "y_pred_gb = gb_model.predict(X_test)\n",
    "accuracy_gb = accuracy_score(y_test, y_pred_gb)\n",
    "\n",
    "# Menyusun tabel summary akurasi\n",
    "model_names = ['Naïve Bayes', 'Random Forest', 'Logistic Regression', 'Gradient Boosting']\n",
    "accuracies = [accuracy_nb, accuracy_rf, accuracy_lr, accuracy_gb]\n",
    "\n",
    "# Buat DataFrame untuk tabel summary\n",
    "accuracy_summary = pd.DataFrame({\n",
    "    'Model': model_names,\n",
    "    'Akurasi (%)': [acc * 100 for acc in accuracies]\n",
    "})\n",
    "\n",
    "print(\"\\nSummary Akurasi Model:\")\n",
    "print(accuracy_summary)\n",
    "\n",
    "# Optionally, you can print confusion matrices and classification reports for each model:\n",
    "for model_name, y_pred in zip(model_names, [y_pred_nb, y_pred_rf, y_pred_lr, y_pred_gb]):\n",
    "    print(f\"\\nConfusion Matrix ({model_name}):\")\n",
    "    print(confusion_matrix(y_test, y_pred))\n",
    "    print(f\"\\nClassification Report ({model_name}):\")\n",
    "    print(classification_report(y_test, y_pred))"
   ]
  },
  {
   "cell_type": "code",
   "execution_count": 9,
   "id": "3d65d76c",
   "metadata": {},
   "outputs": [
    {
     "data": {
      "image/png": "[encoded data removed]",
      "text/plain": [
       "<Figure size 1000x600 with 1 Axes>"
      ]
     },
     "metadata": {},
     "output_type": "display_data"
    }
   ],
   "source": [
    "import pandas as pd\n",
    "import matplotlib.pyplot as plt\n",
    "import seaborn as sns\n",
    "from sklearn.model_selection import train_test_split\n",
    "from sklearn.ensemble import RandomForestClassifier\n",
    "\n",
    "# Misalkan dt adalah DataFrame yang telah dibaca\n",
    "# Pisahkan fitur dan target\n",
    "X = dt[['MonthlySpend', 'Tenure', 'Age']] # Semua fitur kecuali target\n",
    "y = dt['Churn']  # Target adalah 'Churn'\n",
    "\n",
    "# Lakukan One-Hot Encoding pada fitur kategorikal\n",
    "X_encoded = pd.get_dummies(X, drop_first=True)  # drop_first=True untuk menghindari dummy variable trap\n",
    "\n",
    "# Pisahkan data menjadi data pelatihan (train) dan pengujian (test)\n",
    "X_train, X_test, y_train, y_test = train_test_split(X_encoded, y, test_size=0.1, random_state=42)\n",
    "\n",
    "# Buat dan latih model Random Forest\n",
    "rf_model = RandomForestClassifier(random_state=42)\n",
    "rf_model.fit(X_train, y_train)\n",
    "\n",
    "# Menampilkan pentingnya fitur\n",
    "feature_importances = rf_model.feature_importances_\n",
    "\n",
    "# Membuat DataFrame untuk menampilkan fitur dan pentingnya\n",
    "features = X_encoded.columns\n",
    "importance_df = pd.DataFrame({\n",
    "    'Feature': features,\n",
    "    'Importance': feature_importances\n",
    "})\n",
    "\n",
    "# Urutkan berdasarkan pentingnya fitur\n",
    "importance_df = importance_df.sort_values(by='Importance', ascending=False)\n",
    "\n",
    "# Visualisasi dengan barchart\n",
    "plt.figure(figsize=(10, 6))\n",
    "sns.barplot(x='Importance', y='Feature', data=importance_df, palette='viridis')\n",
    "plt.title('Fitur Paling Berpengaruh Berdasarkan Random Forest')\n",
    "plt.xlabel('Pentingnya Fitur')\n",
    "plt.ylabel('Fitur')\n",
    "plt.show()"
   ]
  },
  {
   "cell_type": "markdown",
   "id": "225cb2cb",
   "metadata": {},
   "source": [
    "### Lakukan Cross Validation"
   ]
  },
  {
   "cell_type": "code",
   "execution_count": 16,
   "id": "f80c93ce",
   "metadata": {},
   "outputs": [
    {
     "name": "stdout",
     "output_type": "stream",
     "text": [
      "\n",
      "Hasil Evaluasi Cross-Validation:\n",
      "                 Model  Rata-rata Akurasi (%)  Standar Deviasi (%)\n",
      "0          Naïve Bayes                   53.5            12.854960\n",
      "1        Random Forest                   58.5            10.735455\n",
      "2  Logistic Regression                   52.5             2.500000\n",
      "3    Gradient Boosting                   55.0             7.416198\n",
      "\n",
      "Confusion Matrix (Random Forest):\n",
      "[[9 2]\n",
      " [3 6]]\n",
      "\n",
      "Classification Report (Random Forest):\n",
      "              precision    recall  f1-score   support\n",
      "\n",
      "          No       0.75      0.82      0.78        11\n",
      "         Yes       0.75      0.67      0.71         9\n",
      "\n",
      "    accuracy                           0.75        20\n",
      "   macro avg       0.75      0.74      0.74        20\n",
      "weighted avg       0.75      0.75      0.75        20\n",
      "\n"
     ]
    }
   ],
   "source": [
    "import pandas as pd\n",
    "from sklearn.model_selection import StratifiedKFold, cross_val_score\n",
    "from sklearn.naive_bayes import GaussianNB\n",
    "from sklearn.ensemble import RandomForestClassifier, GradientBoostingClassifier\n",
    "from sklearn.linear_model import LogisticRegression\n",
    "from sklearn.metrics import accuracy_score, classification_report, confusion_matrix\n",
    "\n",
    "# Misalkan dt adalah DataFrame yang telah dibaca\n",
    "# Pisahkan fitur dan target\n",
    "X = dt[['MonthlySpend', 'Tenure', 'Age']]  # Semua fitur numerik\n",
    "y = dt['Churn']  # Target adalah 'Churn'\n",
    "\n",
    "# Lakukan One-Hot Encoding pada fitur kategorikal jika ada (di sini diasumsikan tidak ada fitur kategorikal)\n",
    "X_encoded = pd.get_dummies(X, drop_first=True)  # drop_first=True untuk mencegah dummy variable trap\n",
    "\n",
    "# Inisialisasi model yang akan dievaluasi\n",
    "models = {\n",
    "    \"Naïve Bayes\": GaussianNB(),\n",
    "    \"Random Forest\": RandomForestClassifier(random_state=42),\n",
    "    \"Logistic Regression\": LogisticRegression(max_iter=1000, random_state=42),\n",
    "    \"Gradient Boosting\": GradientBoostingClassifier(random_state=42)\n",
    "}\n",
    "\n",
    "# Setup Cross-Validation\n",
    "cv = StratifiedKFold(n_splits=10, shuffle=True, random_state=42)  # 5-fold stratified cross-validation\n",
    "\n",
    "# Evaluasi model dengan cross-validation\n",
    "results = []\n",
    "for model_name, model in models.items():\n",
    "    # Hitung akurasi menggunakan cross_val_score\n",
    "    cv_scores = cross_val_score(model, X_encoded, y, cv=cv, scoring='accuracy')\n",
    "    avg_accuracy = cv_scores.mean() * 100  # Rata-rata akurasi (dalam persen)\n",
    "    std_dev = cv_scores.std() * 100  # Standar deviasi akurasi (dalam persen)\n",
    "    results.append({\n",
    "        'Model': model_name,\n",
    "        'Rata-rata Akurasi (%)': avg_accuracy,\n",
    "        'Standar Deviasi (%)': std_dev\n",
    "    })\n",
    "\n",
    "# Buat DataFrame untuk tabel hasil\n",
    "accuracy_summary = pd.DataFrame(results)\n",
    "\n",
    "# Tampilkan tabel hasil\n",
    "print(\"\\nHasil Evaluasi Cross-Validation:\")\n",
    "print(accuracy_summary)\n",
    "\n",
    "# Menampilkan confusion matrix dan classification report untuk model terbaik (opsional)\n",
    "best_model_name = accuracy_summary.sort_values(by='Rata-rata Akurasi (%)', ascending=False).iloc[0]['Model']\n",
    "best_model = models[best_model_name]\n",
    "\n",
    "# Latih ulang model terbaik pada seluruh data pelatihan untuk evaluasi di data uji (opsional)\n",
    "X_train, X_test, y_train, y_test = train_test_split(X_encoded, y, test_size=0.1, random_state=42, stratify=y)\n",
    "best_model.fit(X_train, y_train)\n",
    "y_pred_best = best_model.predict(X_test)\n",
    "\n",
    "print(f\"\\nConfusion Matrix ({best_model_name}):\")\n",
    "print(confusion_matrix(y_test, y_pred_best))\n",
    "print(f\"\\nClassification Report ({best_model_name}):\")\n",
    "print(classification_report(y_test, y_pred_best))"
   ]
  },
  {
   "cell_type": "markdown",
   "id": "0362c100",
   "metadata": {},
   "source": [
    "# HASIL"
   ]
  },
  {
   "cell_type": "markdown",
   "id": "419531a5",
   "metadata": {},
   "source": [
    "### Kesimpulan Awal :\n",
    "\n",
    "Berdasarkan hasil uji statistik dan modeling, banyak variabel yang tidak menunjukkan hubungan signifikan dengan churn. Akurasi model juga masih relatif rendah (sekitar 65-80%, tergantung model) dan tidak menunjukkan hasil yang sangat memuaskan sehingga,\n",
    "\n",
    "Analisis memerlukan langkah lebih lanjut karena :\n",
    "- Variabel yang signifikan terhadap churn belum jelas.\n",
    "- Hasil prediksi dari model kurang akurat untuk membuat rekomendasi strategi yang solid.\n",
    "- Data tambahan atau analisis mendalam mungkin diperlukan.\n",
    "\n",
    "**Namun, sebagai hasil awal ada beberapa langkah actionable yang dapat diambil:**\n",
    "\n",
    "1) Segmentasi Pelanggan Berdasarkan MonthlySpend dan Tenure:\n",
    "\n",
    "Pelanggan dengan pengeluaran bulanan tinggi (MonthlySpend) dan durasi langganan lama (Tenure) cenderung lebih loyal.\n",
    "Fokuskan promosi untuk mempertahankan pelanggan baru (Tenure rendah) dengan penawaran khusus seperti diskon jangka pendek.\n",
    "\n",
    "2) Strategi Kontrak Jangka Panjang:\n",
    "\n",
    "Pelanggan dengan kontrak TwoYear memiliki tingkat churn lebih rendah dibanding kontrak bulanan.\n",
    "Tingkatkan insentif untuk pelanggan yang beralih ke kontrak jangka panjang.\n",
    "\n",
    "3) Efisiensi Layanan Internet:\n",
    "\n",
    "Pelanggan yang tidak menggunakan layanan internet menunjukkan risiko churn lebih tinggi. Teliti apakah ini disebabkan oleh ketidakpuasan terhadap produk lain atau alasan eksternal.\n",
    "\n",
    "4) Marketing Offer Perlu Ditingkatkan:\n",
    "\n",
    "Penawaran marketing tidak berdampak signifikan terhadap churn. Ciptakan program yang lebih menarik dengan menyasar kebutuhan pelanggan berdasarkan data segmentasi.\n",
    "\n",
    "**Selanjutnya, Untuk Untuk meningkatkan kualitas hasil analisis, langkah berikut perlu dilakukan:**\n",
    "\n",
    "1) Pengayaan Data:\n",
    "\n",
    "Tambahkan fitur tambahan seperti kepuasan pelanggan, feedback, frekuensi kontak customer service, dan metrik lainnya yang lebih terkait dengan pengalaman pelanggan.\n",
    "\n",
    "2) Validasi Eksternal:\n",
    "\n",
    "Gunakan dataset serupa dari cabang lain untuk memastikan pola yang ditemukan berlaku secara umum."
   ]
  },
  {
   "cell_type": "code",
   "execution_count": null,
   "id": "aaa6098b",
   "metadata": {},
   "outputs": [],
   "source": []
  }
 ],
 "metadata": {
  "kernelspec": {
   "display_name": "Python 3 (ipykernel)",
   "language": "python",
   "name": "python3"
  },
  "language_info": {
   "codemirror_mode": {
    "name": "ipython",
    "version": 3
   },
   "file_extension": ".py",
   "mimetype": "text/x-python",
   "name": "python",
   "nbconvert_exporter": "python",
   "pygments_lexer": "ipython3",
   "version": "3.10.9"
  }
 },
 "nbformat": 4,
 "nbformat_minor": 5
}
